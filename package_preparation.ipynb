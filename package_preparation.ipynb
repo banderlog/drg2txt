{
 "cells": [
  {
   "cell_type": "markdown",
   "id": "b5272bb7",
   "metadata": {},
   "source": [
    "# Prepare data dictionaries"
   ]
  },
  {
   "cell_type": "code",
   "execution_count": 1,
   "id": "aa9f9e1b",
   "metadata": {},
   "outputs": [],
   "source": [
    "import pandas as pd\n",
    "import pickle"
   ]
  },
  {
   "cell_type": "markdown",
   "id": "65e2ada6",
   "metadata": {},
   "source": [
    "## Create dictionaries"
   ]
  },
  {
   "cell_type": "markdown",
   "id": "e7a9ecba",
   "metadata": {},
   "source": [
    "I've extracted data from <https://www.cms.gov/icd10m/version38-1-fullcode-cms/fullcode_cms/P0001.html> and converted it to CSV manually in VIM."
   ]
  },
  {
   "cell_type": "code",
   "execution_count": 2,
   "id": "39d63bba",
   "metadata": {},
   "outputs": [],
   "source": [
    "drg = pd.read_csv('./data/drg.csv', delimiter='^')\n",
    "mdc = pd.read_csv('./data/mdc.csv', delimiter='^')"
   ]
  },
  {
   "cell_type": "code",
   "execution_count": 3,
   "id": "e9c65ae2",
   "metadata": {},
   "outputs": [],
   "source": [
    "drg_descr = {k: v for k, v in zip(drg['DRG'], drg['DESCRIPTION'])}\n",
    "drg_mdc = {k: v for k, v in zip(drg['DRG'], drg['MDC'])}\n",
    "mdc_descr = {k: v for k, v in zip(mdc['MDC'], mdc['DESCRIPTION'])}"
   ]
  },
  {
   "cell_type": "code",
   "execution_count": 4,
   "id": "c5d52297",
   "metadata": {},
   "outputs": [],
   "source": [
    "pd.to_pickle([drg_descr, drg_mdc, mdc_descr], './drg2txt/data.pickle')"
   ]
  },
  {
   "cell_type": "markdown",
   "id": "14b84226",
   "metadata": {},
   "source": [
    "## Test"
   ]
  },
  {
   "cell_type": "code",
   "execution_count": 5,
   "id": "a5fa42e0",
   "metadata": {},
   "outputs": [],
   "source": [
    "import drg2txt"
   ]
  },
  {
   "cell_type": "code",
   "execution_count": 6,
   "id": "6e809bd1",
   "metadata": {},
   "outputs": [
    {
     "data": {
      "text/plain": [
       "['Heart transplant or implant of heart assist system with MCC',\n",
       " 'Pancreas transplant',\n",
       " 'Seizures with MCC']"
      ]
     },
     "execution_count": 6,
     "metadata": {},
     "output_type": "execute_result"
    }
   ],
   "source": [
    "[drg2txt.get_drg_description(i) for i in [1, 10, 100]]"
   ]
  },
  {
   "cell_type": "code",
   "execution_count": 7,
   "id": "63c130cd",
   "metadata": {},
   "outputs": [
    {
     "data": {
      "text/plain": [
       "['Has no MDC', 'Has no MDC', 'Diseases and disorders of the nervous system']"
      ]
     },
     "execution_count": 7,
     "metadata": {},
     "output_type": "execute_result"
    }
   ],
   "source": [
    "[drg2txt.get_drg_mdc_description(i) for i in [1, 10, 100]]"
   ]
  },
  {
   "cell_type": "code",
   "execution_count": 8,
   "id": "1f2cfa4a",
   "metadata": {},
   "outputs": [
    {
     "data": {
      "text/plain": [
       "[-1, -1, 1]"
      ]
     },
     "execution_count": 8,
     "metadata": {},
     "output_type": "execute_result"
    }
   ],
   "source": [
    "[drg2txt.get_mdc_code(i) for i in [1, 10, 100]]"
   ]
  },
  {
   "cell_type": "code",
   "execution_count": 9,
   "id": "1df91010",
   "metadata": {},
   "outputs": [],
   "source": [
    "from drg2txt import drg_descr, drg_mdc, mdc_descr"
   ]
  },
  {
   "cell_type": "markdown",
   "id": "a99c085e",
   "metadata": {},
   "source": [
    "## Create package"
   ]
  },
  {
   "cell_type": "code",
   "execution_count": 24,
   "id": "b52205eb",
   "metadata": {},
   "outputs": [],
   "source": [
    "!find create_wheel/ -mindepth 1 -not -name 'setup.py' -not -name 'MANIFEST.in' -delete\n",
    "!cp -dr ./drg2txt ./create_wheel/\n",
    "!cp ./README.md ./create_wheel/\n",
    "!cp ./LICENSE ./create_wheel/"
   ]
  },
  {
   "cell_type": "code",
   "execution_count": 25,
   "id": "cba06f63",
   "metadata": {},
   "outputs": [
    {
     "name": "stdout",
     "output_type": "stream",
     "text": [
      "running sdist\n",
      "running egg_info\n",
      "creating drg2txt.egg-info\n",
      "writing drg2txt.egg-info/PKG-INFO\n",
      "writing dependency_links to drg2txt.egg-info/dependency_links.txt\n",
      "writing top-level names to drg2txt.egg-info/top_level.txt\n",
      "writing manifest file 'drg2txt.egg-info/SOURCES.txt'\n",
      "reading manifest file 'drg2txt.egg-info/SOURCES.txt'\n",
      "reading manifest template 'MANIFEST.in'\n",
      "writing manifest file 'drg2txt.egg-info/SOURCES.txt'\n",
      "running check\n",
      "warning: check: missing meta-data: if 'maintainer' supplied, 'maintainer_email' must be supplied too\n",
      "\n",
      "creating drg2txt-0.1.0\n",
      "creating drg2txt-0.1.0/drg2txt\n",
      "creating drg2txt-0.1.0/drg2txt.egg-info\n",
      "copying files to drg2txt-0.1.0...\n",
      "copying MANIFEST.in -> drg2txt-0.1.0\n",
      "copying README.md -> drg2txt-0.1.0\n",
      "copying setup.py -> drg2txt-0.1.0\n",
      "copying drg2txt/__init__.py -> drg2txt-0.1.0/drg2txt\n",
      "copying drg2txt/data.pickle -> drg2txt-0.1.0/drg2txt\n",
      "copying drg2txt.egg-info/PKG-INFO -> drg2txt-0.1.0/drg2txt.egg-info\n",
      "copying drg2txt.egg-info/SOURCES.txt -> drg2txt-0.1.0/drg2txt.egg-info\n",
      "copying drg2txt.egg-info/dependency_links.txt -> drg2txt-0.1.0/drg2txt.egg-info\n",
      "copying drg2txt.egg-info/top_level.txt -> drg2txt-0.1.0/drg2txt.egg-info\n",
      "Writing drg2txt-0.1.0/setup.cfg\n",
      "creating dist\n",
      "Creating tar archive\n",
      "removing 'drg2txt-0.1.0' (and everything under it)\n"
     ]
    }
   ],
   "source": [
    "! cd ./create_wheel/ && ../venv/bin/python3 setup.py sdist"
   ]
  },
  {
   "cell_type": "code",
   "execution_count": null,
   "id": "f029f5fe",
   "metadata": {},
   "outputs": [],
   "source": []
  }
 ],
 "metadata": {
  "kernelspec": {
   "display_name": "Python 3",
   "language": "python",
   "name": "python3"
  },
  "language_info": {
   "codemirror_mode": {
    "name": "ipython",
    "version": 3
   },
   "file_extension": ".py",
   "mimetype": "text/x-python",
   "name": "python",
   "nbconvert_exporter": "python",
   "pygments_lexer": "ipython3",
   "version": "3.8.10"
  }
 },
 "nbformat": 4,
 "nbformat_minor": 5
}
